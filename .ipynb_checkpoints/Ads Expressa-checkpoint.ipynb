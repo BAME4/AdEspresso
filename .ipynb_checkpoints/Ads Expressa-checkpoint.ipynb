{
 "cells": [
  {
   "cell_type": "code",
   "execution_count": 33,
   "metadata": {},
   "outputs": [],
   "source": [
    "from selenium import webdriver\n",
    "from selenium.webdriver.common.keys import Keys\n",
    "from selenium.webdriver.support import expected_conditions as EC\n",
    "from selenium.webdriver.common.by import By\n",
    "from selenium.webdriver.common.action_chains import ActionChains\n",
    "from selenium.webdriver.support.ui import Select, WebDriverWait\n",
    "from selenium.common.exceptions import TimeoutException\n",
    "from selenium.webdriver.common.desired_capabilities import DesiredCapabilities\n",
    "from bs4 import BeautifulSoup, Comment\n",
    "import re\n",
    "import pandas as pd\n",
    "import os\n",
    "import numpy as np\n"
   ]
  },
  {
   "cell_type": "code",
   "execution_count": 59,
   "metadata": {},
   "outputs": [],
   "source": [
    "driver = webdriver.Remote(command_executor='http://127.0.0.1:9515/wd/hub', desired_capabilities=DesiredCapabilities.CHROME)"
   ]
  },
  {
   "cell_type": "code",
   "execution_count": 62,
   "metadata": {},
   "outputs": [],
   "source": [
    "driver.get(\"https://adespresso.com/ads-examples/\")"
   ]
  },
  {
   "cell_type": "code",
   "execution_count": 63,
   "metadata": {},
   "outputs": [],
   "source": [
    "driver.find_element_by_id('ads-search').send_keys('football')\n",
    "driver.find_element_by_id('ads-search').send_keys(Keys.ENTER)"
   ]
  },
  {
   "cell_type": "code",
   "execution_count": 38,
   "metadata": {},
   "outputs": [],
   "source": [
    " #Selenium hands the page source to Beautiful Soup\n",
    "soup=BeautifulSoup(driver.page_source, 'lxml')\n"
   ]
  },
  {
   "cell_type": "code",
   "execution_count": 39,
   "metadata": {},
   "outputs": [],
   "source": [
    "links = soup.find_all('ul','sf-results-list')"
   ]
  },
  {
   "cell_type": "code",
   "execution_count": 99,
   "metadata": {},
   "outputs": [],
   "source": [
    "df = pd.DataFrame(columns=['Links'])\n",
    "for b in links:\n",
    "    for link in b.find_all('a'):\n",
    "        d =link['href']\n",
    "        df = df.append({'Links':d,}, ignore_index=True)      \n",
    "            \n",
    "            "
   ]
  },
  {
   "cell_type": "code",
   "execution_count": null,
   "metadata": {},
   "outputs": [],
   "source": []
  },
  {
   "cell_type": "code",
   "execution_count": null,
   "metadata": {},
   "outputs": [],
   "source": []
  },
  {
   "cell_type": "code",
   "execution_count": 69,
   "metadata": {},
   "outputs": [],
   "source": [
    "def scrap():\n",
    "    df = pd.DataFrame(columns=['Topic', 'Likes', 'Comments', 'Shares'])\n",
    "    \n",
    "    driver.get(\"https://adespresso.com/ad/2190951/?_return_to=https%3A%2F%2Fadespresso.com%2Fads-examples%2F%3Fsearch%3Dfootball%26placement%3D0%26industry%3D0%26objective%3D0%26attribute%3D0\")\n",
    "\n",
    "    soup1 = BeautifulSoup(driver.page_source, 'lxml')\n",
    "    \n",
    "    topic = soup1.find('h2')\n",
    "\n",
    "    newUrl = soup1.find('iframe', {'allow': 'encrypted-media'})['src']\n",
    "    driver.get(newUrl)\n",
    "\n",
    "    soup2=BeautifulSoup(driver.page_source, 'lxml')\n",
    "    like = soup2.find('span', {'class':'embeddedLikeButton'}).get_text()\n",
    "    print(like)\n",
    "\n",
    "    comment = soup2.find('div', {'title':'Comment'}).get_text()\n",
    "    print(comment)\n",
    "\n",
    "    share = soup2.find('div', {'title':'Share'}).get_text()\n",
    "    print(share)\n",
    "    \n",
    "   \n"
   ]
  },
  {
   "cell_type": "code",
   "execution_count": null,
   "metadata": {},
   "outputs": [],
   "source": []
  },
  {
   "cell_type": "code",
   "execution_count": 54,
   "metadata": {},
   "outputs": [],
   "source": []
  },
  {
   "cell_type": "code",
   "execution_count": null,
   "metadata": {},
   "outputs": [],
   "source": []
  },
  {
   "cell_type": "code",
   "execution_count": null,
   "metadata": {},
   "outputs": [],
   "source": []
  }
 ],
 "metadata": {
  "kernelspec": {
   "display_name": "Python 3",
   "language": "python",
   "name": "python3"
  },
  "language_info": {
   "codemirror_mode": {
    "name": "ipython",
    "version": 3
   },
   "file_extension": ".py",
   "mimetype": "text/x-python",
   "name": "python",
   "nbconvert_exporter": "python",
   "pygments_lexer": "ipython3",
   "version": "3.5.2"
  }
 },
 "nbformat": 4,
 "nbformat_minor": 2
}
